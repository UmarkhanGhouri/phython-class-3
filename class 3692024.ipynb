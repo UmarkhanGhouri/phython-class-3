{
 "cells": [
  {
   "cell_type": "markdown",
   "id": "fcad7609-462c-4f21-b490-6324491ed02f",
   "metadata": {},
   "source": [
    "# CONCATENATION"
   ]
  },
  {
   "cell_type": "code",
   "execution_count": 9,
   "id": "897e1ca4-2e7f-499c-9418-173b21607d4a",
   "metadata": {},
   "outputs": [],
   "source": [
    "f_name = 'Umar' #string"
   ]
  },
  {
   "cell_type": "code",
   "execution_count": 10,
   "id": "8363038f-4ee2-439e-b25f-789161d87c80",
   "metadata": {},
   "outputs": [],
   "source": [
    "l_name = 'khan' #string"
   ]
  },
  {
   "cell_type": "code",
   "execution_count": 12,
   "id": "34182288-2790-4f17-94af-8743ab615adb",
   "metadata": {},
   "outputs": [],
   "source": [
    "age = 19 #int"
   ]
  },
  {
   "cell_type": "code",
   "execution_count": 13,
   "id": "684642c2-7892-468c-b682-507c295808e4",
   "metadata": {},
   "outputs": [],
   "source": [
    "weight = 50.5 #float"
   ]
  },
  {
   "cell_type": "code",
   "execution_count": 14,
   "id": "0c685c26-b40d-485d-8b77-9777fc9e3b1b",
   "metadata": {},
   "outputs": [],
   "source": [
    "is_teacher =True #boolean"
   ]
  },
  {
   "cell_type": "code",
   "execution_count": 18,
   "id": "ee06f3f4-a302-4525-9c05-7286fac6f01f",
   "metadata": {},
   "outputs": [
    {
     "data": {
      "text/plain": [
       "'Trainer name of python class is Umar khan'"
      ]
     },
     "execution_count": 18,
     "metadata": {},
     "output_type": "execute_result"
    }
   ],
   "source": [
    "\"Trainer name of python class is \" + f_name+ \" \"+l_name"
   ]
  },
  {
   "cell_type": "code",
   "execution_count": 19,
   "id": "0e932bad-382d-4611-b1ac-7f14e4cee976",
   "metadata": {},
   "outputs": [
    {
     "data": {
      "text/plain": [
       "'Trainer name of python class is Umar khan '"
      ]
     },
     "execution_count": 19,
     "metadata": {},
     "output_type": "execute_result"
    }
   ],
   "source": [
    "#method 2 format string with call variable with curly brakets\n",
    "f\"Trainer name of python class is {f_name} {l_name} \" "
   ]
  },
  {
   "cell_type": "code",
   "execution_count": 23,
   "id": "0df73947-cd8f-4c0a-a874-8b089b6bb1ba",
   "metadata": {},
   "outputs": [
    {
     "data": {
      "text/plain": [
       "'Trainer name of python class is  Umar khan'"
      ]
     },
     "execution_count": 23,
     "metadata": {},
     "output_type": "execute_result"
    }
   ],
   "source": [
    "#method 3 .format takes variable from 0\n",
    "\"Trainer name of python class is  {0} {1}\".format(f_name,l_name)"
   ]
  },
  {
   "cell_type": "markdown",
   "id": "f86b59ad-ea26-4d4f-b7a0-1781f74f14a5",
   "metadata": {},
   "source": [
    "## CONDITIONAL STATEMENTS"
   ]
  },
  {
   "cell_type": "code",
   "execution_count": null,
   "id": "2e2e2182-a2e9-463b-a205-3314ea448ec1",
   "metadata": {},
   "outputs": [],
   "source": [
    "if <codition>:\n",
    "    <if body?>\n",
    "    else:\n",
    "        <else body>"
   ]
  },
  {
   "cell_type": "code",
   "execution_count": 36,
   "id": "09aab110-3a1f-4be4-b851-b1f56004ef22",
   "metadata": {},
   "outputs": [
    {
     "name": "stdout",
     "output_type": "stream",
     "text": [
      "Pakistan sad\n"
     ]
    }
   ],
   "source": [
    "result = \"loss\"  # Win or Loss or Tie\n",
    "\n",
    "if result == 'win':\n",
    "    print('pakistan happy')\n",
    "else:\n",
    "    print ('Pakistan sad')"
   ]
  },
  {
   "cell_type": "markdown",
   "id": "33d16ec7-1eb2-41ee-b9ef-a513a9cfae20",
   "metadata": {},
   "source": [
    "### elif\n"
   ]
  },
  {
   "cell_type": "code",
   "execution_count": 38,
   "id": "3decc9de-9c9e-4697-a50b-aace2f67689d",
   "metadata": {},
   "outputs": [
    {
     "name": "stdout",
     "output_type": "stream",
     "text": [
      "pakistan and india sad\n"
     ]
    }
   ],
   "source": [
    "result = \"tie\"  # Win or Loss or Tie\n",
    "\n",
    "if result == 'win':\n",
    "    print('pakistan happy')\n",
    "elif result == \"loss\":\n",
    "    print('pakistan sad')\n",
    "elif result == 'tie':\n",
    "    print ('pakistan and india sad')"
   ]
  },
  {
   "cell_type": "code",
   "execution_count": 43,
   "id": "5ac00955-69af-43b1-bc8c-9dea8e637e29",
   "metadata": {},
   "outputs": [
    {
     "name": "stdout",
     "output_type": "stream",
     "text": [
      "ferrari\n"
     ]
    }
   ],
   "source": [
    "#vehicle = 4 condition mehran tyota ford ferrari\n",
    "vehicle = \"3\"\n",
    "if vehicle =='0':\n",
    "    print('mehran')\n",
    "elif vehicle =='1':\n",
    "    print('toyota')\n",
    "elif vehicle == '2':\n",
    "    print('ford')\n",
    "elif vehicle == '3':\n",
    "    print ('ferrari')"
   ]
  },
  {
   "cell_type": "code",
   "execution_count": 45,
   "id": "237e1518-b1af-4e5c-8ab0-b3d225ee7331",
   "metadata": {},
   "outputs": [
    {
     "name": "stdout",
     "output_type": "stream",
     "text": [
      "yes this is a cat of kingdom animal\n"
     ]
    }
   ],
   "source": [
    "species = 'cat'\n",
    "if species == 'cat':\n",
    "    status ='ok'\n",
    "    kingdon ='animal'\n",
    "    print (f\"yes this is a cat of kingdom {kingdon}\")"
   ]
  },
  {
   "cell_type": "code",
   "execution_count": 58,
   "id": "943970be-654b-443f-a96a-ee784ddb5ead",
   "metadata": {},
   "outputs": [
    {
     "name": "stdout",
     "output_type": "stream",
     "text": [
      "Your grade is FAIL\n"
     ]
    }
   ],
   "source": [
    "marks = 10 #hard code\n",
    "if marks >=80:\n",
    "    print('Your grade is A+')\n",
    "elif marks >=70:\n",
    "    print ('Your grade is A')\n",
    "elif marks >=50:\n",
    "    print ('Your grade is B')\n",
    "else:\n",
    "    print ('Your grade is FAIL')"
   ]
  },
  {
   "cell_type": "code",
   "execution_count": 63,
   "id": "1a08ca46-3224-4c49-8b79-c70c2df6765a",
   "metadata": {},
   "outputs": [
    {
     "name": "stdin",
     "output_type": "stream",
     "text": [
      "Enter Your Marks 100\n"
     ]
    },
    {
     "name": "stdout",
     "output_type": "stream",
     "text": [
      "Your grade is A+\n"
     ]
    }
   ],
   "source": [
    "marks=int(input(\"Enter Your Marks\")) #Input function always return string output\n",
    "if marks >=80:\n",
    "    print('Your grade is A+')\n",
    "elif marks >=70:\n",
    "    print ('Your grade is A')\n",
    "elif marks >=50:\n",
    "    print ('Your grade is B')\n",
    "else:\n",
    "    print ('Your grade is FAIL')"
   ]
  },
  {
   "cell_type": "markdown",
   "id": "713ee10a-28ce-4478-9d59-3061fe56352f",
   "metadata": {},
   "source": [
    "# comparision operators\n"
   ]
  },
  {
   "cell_type": "code",
   "execution_count": 64,
   "id": "065b0e6a-158d-4046-9164-8c96553c8b6a",
   "metadata": {},
   "outputs": [
    {
     "data": {
      "text/plain": [
       "False"
      ]
     },
     "execution_count": 64,
     "metadata": {},
     "output_type": "execute_result"
    }
   ],
   "source": [
    "95 == 85"
   ]
  },
  {
   "cell_type": "code",
   "execution_count": 68,
   "id": "eedb80c8-484e-4936-94ed-da16ea7ea87e",
   "metadata": {},
   "outputs": [
    {
     "data": {
      "text/plain": [
       "True"
      ]
     },
     "execution_count": 68,
     "metadata": {},
     "output_type": "execute_result"
    }
   ],
   "source": [
    "95!=85"
   ]
  },
  {
   "cell_type": "code",
   "execution_count": 66,
   "id": "539d2163-7a56-4344-83c8-44350435fce8",
   "metadata": {},
   "outputs": [
    {
     "data": {
      "text/plain": [
       "True"
      ]
     },
     "execution_count": 66,
     "metadata": {},
     "output_type": "execute_result"
    }
   ],
   "source": [
    "95>=85"
   ]
  },
  {
   "cell_type": "code",
   "execution_count": 71,
   "id": "582307a0-ef2a-48dd-bc1f-5d161e63f03f",
   "metadata": {},
   "outputs": [
    {
     "name": "stdin",
     "output_type": "stream",
     "text": [
      "Enter price hi\n"
     ]
    }
   ],
   "source": [
    "all_available =True\n",
    "is_fresh = True\n",
    "price =input(\"Enter price\") #average,low,high"
   ]
  },
  {
   "cell_type": "code",
   "execution_count": 78,
   "id": "238f09f1-6add-4326-8b8a-e8cc95efc7df",
   "metadata": {},
   "outputs": [
    {
     "name": "stdin",
     "output_type": "stream",
     "text": [
      "Whats the price low\n"
     ]
    },
    {
     "name": "stdout",
     "output_type": "stream",
     "text": [
      "20\n"
     ]
    }
   ],
   "source": [
    "score=0\n",
    "price =input(\"Whats the price\") #average,low,high\n",
    "if  all_available:\n",
    "    score += 5\n",
    "if is_fresh:\n",
    "    score += 5\n",
    "if price == \"average\":\n",
    "    score +=5\n",
    "elif price== \"low\":\n",
    "    score +=10\n",
    "elif price==\"high\":\n",
    "    score +=0\n",
    "\n",
    "print (score)"
   ]
  },
  {
   "cell_type": "markdown",
   "id": "fc9b3361-ba22-40b5-b686-a9d03ac79afc",
   "metadata": {},
   "source": [
    "# Logical Operators"
   ]
  },
  {
   "cell_type": "code",
   "execution_count": 79,
   "id": "baf8dd24-53d4-4ecc-b8e4-01435a3fc3cb",
   "metadata": {},
   "outputs": [
    {
     "ename": "SyntaxError",
     "evalue": "invalid syntax (4286577938.py, line 1)",
     "output_type": "error",
     "traceback": [
      "\u001b[1;36m  Cell \u001b[1;32mIn[79], line 1\u001b[1;36m\u001b[0m\n\u001b[1;33m    A B\u001b[0m\n\u001b[1;37m      ^\u001b[0m\n\u001b[1;31mSyntaxError\u001b[0m\u001b[1;31m:\u001b[0m invalid syntax\n"
     ]
    }
   ],
   "source": [
    "A B    \n",
    "0 0 \n",
    "1 0 or  \n",
    "0 1 or   \n",
    "1 1 and  \n",
    "#jis condition mein nhi hota ous ko not khete hain\n",
    "0 ==> 1\n",
    "1 ==> 0\n",
    "\n"
   ]
  },
  {
   "cell_type": "code",
   "execution_count": 83,
   "id": "e2b8f2db-50ba-4ed9-8daf-6168c59db842",
   "metadata": {},
   "outputs": [
    {
     "name": "stdin",
     "output_type": "stream",
     "text": [
      "Enter Intermediate Percentage 50\n",
      "Enter Your Age 18\n"
     ]
    },
    {
     "name": "stdout",
     "output_type": "stream",
     "text": [
      "not eligible\n"
     ]
    }
   ],
   "source": [
    "percentage_inter =int(input('Enter Intermediate Percentage'))\n",
    "age_limit=int(input('Enter Your Age'))\n",
    "\n",
    "if percentage_inter > 60 and age_limit >=18:\n",
    "    print ('eligible to take admmision in university')\n",
    "else :\n",
    "    print ('not eligible')"
   ]
  },
  {
   "cell_type": "markdown",
   "id": "f155264c-d56d-4a13-9ab6-c8b7b7fdff2b",
   "metadata": {},
   "source": [
    "## or\n"
   ]
  },
  {
   "cell_type": "code",
   "execution_count": 84,
   "id": "4a05a67c-fd11-4379-9020-1c850a1575e9",
   "metadata": {},
   "outputs": [
    {
     "name": "stdin",
     "output_type": "stream",
     "text": [
      "Enter Intermediate Percentage 18\n",
      "Enter Your Age 18\n"
     ]
    },
    {
     "name": "stdout",
     "output_type": "stream",
     "text": [
      "eligible to take admmision in university\n"
     ]
    }
   ],
   "source": [
    "percentage_inter =int(input('Enter Intermediate Percentage'))\n",
    "age_limit=int(input('Enter Your Age'))\n",
    "\n",
    "if percentage_inter > 60 or age_limit >=18:\n",
    "    print ('eligible to take admmision in university')\n",
    "else :\n",
    "    print ('not eligible')"
   ]
  },
  {
   "cell_type": "code",
   "execution_count": null,
   "id": "c13d7720-48a6-4c5f-8700-75e460107378",
   "metadata": {},
   "outputs": [],
   "source": []
  }
 ],
 "metadata": {
  "kernelspec": {
   "display_name": "Python 3 (ipykernel)",
   "language": "python",
   "name": "python3"
  },
  "language_info": {
   "codemirror_mode": {
    "name": "ipython",
    "version": 3
   },
   "file_extension": ".py",
   "mimetype": "text/x-python",
   "name": "python",
   "nbconvert_exporter": "python",
   "pygments_lexer": "ipython3",
   "version": "3.11.7"
  }
 },
 "nbformat": 4,
 "nbformat_minor": 5
}
